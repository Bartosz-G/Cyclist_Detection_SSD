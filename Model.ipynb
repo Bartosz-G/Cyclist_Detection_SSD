{
 "cells": [
  {
   "cell_type": "code",
   "execution_count": 244,
   "metadata": {
    "collapsed": true,
    "pycharm": {
     "name": "#%%\n"
    }
   },
   "outputs": [],
   "source": [
    "import torch\n",
    "import pandas as pd\n",
    "import numpy as np\n",
    "import os\n",
    "import torch.utils\n",
    "import torchvision.transforms\n",
    "from torch import nn\n",
    "from torch.nn import functional as F\n",
    "import matplotlib.pyplot as plt\n",
    "%matplotlib inline\n",
    "\n",
    "torch.set_printoptions(threshold=1000)"
   ]
  },
  {
   "cell_type": "code",
   "execution_count": 245,
   "metadata": {
    "pycharm": {
     "name": "#%%\n"
    }
   },
   "outputs": [],
   "source": [
    "Dataset_dir = \"../Cyclist_Detection/Dataset\""
   ]
  },
  {
   "cell_type": "code",
   "execution_count": 246,
   "metadata": {
    "pycharm": {
     "name": "#%%\n"
    }
   },
   "outputs": [],
   "source": [
    "#Writing our Dataset class\n",
    "class YoloPtDataset(torch.utils.data.Dataset):\n",
    "    \"\"\"Dataset with tensor format images and Yolo format labels\"\"\"\n",
    "\n",
    "    def __init__(self,root_dir,transform=None):\n",
    "        try:\n",
    "            self.paths = pd.read_csv(os.path.join(root_dir,\"src\",\"src.csv\"))\n",
    "            self.paths.values.astype(str)\n",
    "        except:\n",
    "            raise ValueError(\"The directory doesn't have a src file with the paths to all the images\")\n",
    "\n",
    "        self.root_dir = root_dir\n",
    "        self.transform = transform\n",
    "\n",
    "    def __len__(self):\n",
    "        return len(self.paths)\n",
    "\n",
    "    def __getitem__(self, idx):\n",
    "        if torch.is_tensor(idx):\n",
    "            idx = idx.tolist()\n",
    "\n",
    "        img_path, label_path = self.paths.iloc[idx,1:].values\n",
    "\n",
    "        return torch.load(img_path),torch.load(label_path)"
   ]
  },
  {
   "cell_type": "code",
   "execution_count": 247,
   "metadata": {
    "pycharm": {
     "name": "#%%\n"
    }
   },
   "outputs": [],
   "source": [
    "data = YoloPtDataset(Dataset_dir)"
   ]
  },
  {
   "cell_type": "code",
   "execution_count": 248,
   "metadata": {
    "pycharm": {
     "name": "#%%\n"
    }
   },
   "outputs": [
    {
     "data": {
      "text/plain": [
       "(tensor([[[29, 29, 29,  ..., 25, 24, 24],\n",
       "          [29, 29, 29,  ..., 25, 25, 25],\n",
       "          [29, 29, 28,  ..., 27, 27, 28],\n",
       "          ...,\n",
       "          [39, 40, 41,  ..., 21, 21, 21],\n",
       "          [40, 40, 41,  ..., 21, 21, 21],\n",
       "          [40, 41, 42,  ..., 21, 21, 21]],\n",
       " \n",
       "         [[37, 37, 37,  ..., 28, 27, 27],\n",
       "          [37, 37, 37,  ..., 28, 28, 28],\n",
       "          [37, 37, 36,  ..., 30, 30, 31],\n",
       "          ...,\n",
       "          [47, 48, 49,  ..., 26, 26, 26],\n",
       "          [48, 48, 49,  ..., 26, 26, 26],\n",
       "          [48, 49, 50,  ..., 26, 26, 26]],\n",
       " \n",
       "         [[26, 26, 26,  ..., 17, 16, 16],\n",
       "          [26, 26, 26,  ..., 17, 17, 17],\n",
       "          [26, 26, 25,  ..., 19, 19, 20],\n",
       "          ...,\n",
       "          [36, 37, 38,  ..., 20, 20, 20],\n",
       "          [37, 37, 38,  ..., 20, 20, 20],\n",
       "          [37, 38, 39,  ..., 20, 20, 20]]], dtype=torch.uint8),\n",
       " tensor([[0.0000, 0.4612, 0.4360, 0.0181, 0.1006],\n",
       "         [0.0000, 0.4243, 0.4282, 0.0117, 0.0635]]))"
      ]
     },
     "execution_count": 248,
     "metadata": {},
     "output_type": "execute_result"
    }
   ],
   "source": [
    "data[5]"
   ]
  },
  {
   "cell_type": "code",
   "execution_count": null,
   "metadata": {
    "pycharm": {
     "name": "#%%\n"
    }
   },
   "outputs": [],
   "source": []
  }
 ],
 "metadata": {
  "kernelspec": {
   "display_name": "Python [conda env:torchenv]",
   "language": "python",
   "name": "conda-env-torchenv-py"
  },
  "language_info": {
   "codemirror_mode": {
    "name": "ipython",
    "version": 3
   },
   "file_extension": ".py",
   "mimetype": "text/x-python",
   "name": "python",
   "nbconvert_exporter": "python",
   "pygments_lexer": "ipython3",
   "version": "3.9.13"
  }
 },
 "nbformat": 4,
 "nbformat_minor": 1
}
