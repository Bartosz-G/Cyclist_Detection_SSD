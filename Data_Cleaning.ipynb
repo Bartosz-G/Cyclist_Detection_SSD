{
 "cells": [
  {
   "cell_type": "code",
   "execution_count": 20,
   "metadata": {
    "collapsed": true,
    "pycharm": {
     "name": "#%%\n"
    }
   },
   "outputs": [],
   "source": [
    "import torch\n",
    "import pandas as pd\n",
    "import numpy as np\n",
    "import torch.utils\n",
    "import torchvision.transforms\n",
    "from torch import nn\n",
    "from torch.nn import functional as F\n",
    "import matplotlib.pyplot as plt\n",
    "import os\n",
    "%matplotlib inline\n",
    "\n",
    "torch.set_printoptions(threshold=100000)"
   ]
  },
  {
   "cell_type": "code",
   "execution_count": 21,
   "metadata": {
    "pycharm": {
     "name": "#%%\n"
    }
   },
   "outputs": [],
   "source": [
    "raw_path = \"../Cyclist_Detection/raw\""
   ]
  },
  {
   "cell_type": "code",
   "execution_count": 22,
   "metadata": {
    "pycharm": {
     "name": "#%%\n"
    }
   },
   "outputs": [],
   "source": [
    "target_path = \"../Cyclist_Detection/Dataset\""
   ]
  },
  {
   "cell_type": "code",
   "execution_count": 23,
   "metadata": {
    "pycharm": {
     "name": "#%%\n"
    }
   },
   "outputs": [],
   "source": [
    "def yolo_load_data(path,target):\n",
    "    \"\"\"Used for loading .txt files with labels in the yolo format for object detection\"\"\"\n",
    "\n",
    "    try:\n",
    "        path_labels = os.path.join(path,\"labels\")\n",
    "        labels_dir = sorted(os.listdir(path_labels))\n",
    "    except:\n",
    "        raise ValueError(\"The file has to be split into images and labels folders\")\n",
    "\n",
    "    target_labels = os.path.join(target,\"labels\")\n",
    "    paths_labels = []\n",
    "\n",
    "    for dir in labels_dir:\n",
    "        with open(os.path.join(path_labels,dir),'r') as txt:\n",
    "            txt_lines = txt.readlines()\n",
    "            txt.close()\n",
    "\n",
    "        single_yolo = torch.empty((len(txt_lines),5))\n",
    "\n",
    "        for j in range(len(txt_lines)):\n",
    "            txt_lines[j] = txt_lines[j].strip()\n",
    "            single_line = torch.tensor(list(map(float,txt_lines[j].split(\" \"))))\n",
    "            single_yolo[j] = single_line\n",
    "\n",
    "        target_dir = dir.replace(\".txt\",\".pt\")\n",
    "\n",
    "\n",
    "        if not os.path.exists(target_labels):\n",
    "            os.makedirs(target_labels)\n",
    "\n",
    "        torch.save(single_yolo,os.path.join(target_labels,target_dir))\n",
    "        paths_labels.append(os.path.join(target_labels,target_dir))\n",
    "\n",
    "    try:\n",
    "        path_images = os.path.join(path,\"images\")\n",
    "        images_dir = sorted(os.listdir(path_images))\n",
    "    except:\n",
    "        raise ValueError(\"The file has to be split into images and labels folders\")\n",
    "\n",
    "\n",
    "    target_images = os.path.join(target,\"images\")\n",
    "    paths_images = []\n",
    "\n",
    "    for dir in images_dir:\n",
    "        img = torchvision.io.read_image(os.path.join(path_images,dir))\n",
    "\n",
    "        target_dir = dir.replace(\".jpg\",\".pt\")\n",
    "\n",
    "\n",
    "\n",
    "        if not os.path.exists(target_images):\n",
    "            os.makedirs(target_images)\n",
    "\n",
    "        torch.save(img,os.path.join(target_images,target_dir))\n",
    "        paths_images.append(os.path.join(target_images,target_dir))\n",
    "\n",
    "    src = pd.DataFrame({\n",
    "        \"images\": paths_images,\n",
    "        \"labels\": paths_labels\n",
    "    })\n",
    "\n",
    "    target_src = os.path.join(target,\"src\")\n",
    "\n",
    "    if not os.path.exists(target_src):\n",
    "        os.makedirs(target_src)\n",
    "\n",
    "    src.to_csv(os.path.join(target_src,\"src.csv\"))"
   ]
  },
  {
   "cell_type": "code",
   "execution_count": 24,
   "metadata": {
    "pycharm": {
     "name": "#%%\n"
    }
   },
   "outputs": [],
   "source": [
    "yolo_load_data(raw_path,target_path)"
   ]
  },
  {
   "cell_type": "code",
   "execution_count": null,
   "metadata": {
    "collapsed": false,
    "pycharm": {
     "name": "#%%\n"
    }
   },
   "outputs": [],
   "source": []
  },
  {
   "cell_type": "code",
   "execution_count": null,
   "metadata": {
    "collapsed": false,
    "pycharm": {
     "name": "#%%\n"
    }
   },
   "outputs": [],
   "source": [
    "##To quickly delete files:"
   ]
  },
  {
   "cell_type": "code",
   "execution_count": 15,
   "metadata": {
    "collapsed": false,
    "pycharm": {
     "name": "#%%\n"
    }
   },
   "outputs": [],
   "source": [
    "#delete_images = sorted(os.listdir(os.path.join(target_path,\"images\")))"
   ]
  },
  {
   "cell_type": "code",
   "execution_count": 11,
   "metadata": {
    "collapsed": false,
    "pycharm": {
     "name": "#%%\n"
    }
   },
   "outputs": [],
   "source": [
    "#delete_labels = sorted(os.listdir(os.path.join(target_path,\"labels\")))"
   ]
  },
  {
   "cell_type": "code",
   "execution_count": 12,
   "metadata": {
    "collapsed": false,
    "pycharm": {
     "name": "#%%\n"
    }
   },
   "outputs": [],
   "source": [
    "#delete_src = os.listdir(os.path.join(target_path,\"src\"))"
   ]
  },
  {
   "cell_type": "code",
   "execution_count": 14,
   "metadata": {
    "collapsed": false,
    "pycharm": {
     "name": "#%%\n"
    }
   },
   "outputs": [],
   "source": [
    "#for image in delete_images:\n",
    "#    os.remove(os.path.join(target_path,\"images\",image))"
   ]
  },
  {
   "cell_type": "code",
   "execution_count": 17,
   "metadata": {
    "collapsed": false,
    "pycharm": {
     "name": "#%%\n"
    }
   },
   "outputs": [],
   "source": [
    "#for label in delete_labels:\n",
    "#    os.remove(os.path.join(target_path,\"labels\",label))"
   ]
  },
  {
   "cell_type": "code",
   "execution_count": 19,
   "metadata": {
    "collapsed": false,
    "pycharm": {
     "name": "#%%\n"
    }
   },
   "outputs": [],
   "source": [
    "#os.remove(os.path.join(target_path,\"src\",\"src.csv\"))"
   ]
  }
 ],
 "metadata": {
  "kernelspec": {
   "display_name": "Python [conda env:torchenv]",
   "language": "python",
   "name": "conda-env-torchenv-py"
  },
  "language_info": {
   "codemirror_mode": {
    "name": "ipython",
    "version": 3
   },
   "file_extension": ".py",
   "mimetype": "text/x-python",
   "name": "python",
   "nbconvert_exporter": "python",
   "pygments_lexer": "ipython3",
   "version": "3.9.13"
  }
 },
 "nbformat": 4,
 "nbformat_minor": 1
}
