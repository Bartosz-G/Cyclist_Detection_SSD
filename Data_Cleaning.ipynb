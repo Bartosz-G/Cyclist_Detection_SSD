{
 "cells": [
  {
   "cell_type": "code",
   "execution_count": 17,
   "metadata": {
    "collapsed": true
   },
   "outputs": [],
   "source": [
    "import torch\n",
    "import pandas as pd\n",
    "import numpy as np\n",
    "import torch.utils\n",
    "import torchvision.transforms\n",
    "from torch import nn\n",
    "from torch.nn import functional as F\n",
    "import matplotlib.pyplot as plt\n",
    "import os\n",
    "%matplotlib inline\n",
    "\n",
    "torch.set_printoptions(threshold=100000)"
   ]
  },
  {
   "cell_type": "code",
   "execution_count": 18,
   "metadata": {},
   "outputs": [],
   "source": [
    "raw_path = \"../Cyclist_Detection/raw\""
   ]
  },
  {
   "cell_type": "code",
   "execution_count": 19,
   "metadata": {},
   "outputs": [],
   "source": [
    "target_path = \"../Cyclist_Detection/Dataset\""
   ]
  },
  {
   "cell_type": "code",
   "execution_count": null,
   "outputs": [],
   "source": [
    "def yolo_load_data(path,target):\n",
    "    \"\"\"Used for loading .txt files with labels in the yolo format for object detection\"\"\"\n",
    "\n",
    "    try:\n",
    "        path_labels = os.path.join(path,\"labels\")\n",
    "        labels_dir = sorted(os.listdir(path_labels))\n",
    "    except:\n",
    "        raise ValueError(\"The file has to be split into images and labels folders\")\n",
    "\n",
    "    target_labels = os.path.join(target,\"labels\")\n",
    "\n",
    "    for dir in labels_dir:\n",
    "        with open(os.path.join(path_labels,dir),'r') as txt:\n",
    "            txt_lines = txt.readlines()\n",
    "            txt.close()\n",
    "\n",
    "        single_yolo = torch.empty((len(txt_lines),5))\n",
    "\n",
    "        for j in range(len(txt_lines)):\n",
    "            txt_lines[j] = txt_lines[j].strip()\n",
    "            single_line = torch.tensor(list(map(float,txt_lines[j].split(\" \"))))\n",
    "            single_yolo[j] = single_line\n",
    "\n",
    "        target_dir = dir.replace(\".txt\",\".pt\")\n",
    "\n",
    "\n",
    "        if not os.path.exists(target_labels):\n",
    "            os.makedirs(target_labels)\n",
    "\n",
    "        torch.save(single_yolo,os.path.join(target_labels,target_dir))\n",
    "\n",
    "    try:\n",
    "        path_images = os.path.join(path,\"images\")\n",
    "        images_dir = sorted(os.listdir(path_images))\n",
    "    except:\n",
    "        raise ValueError(\"The file has to be split into images and labels folders\")\n",
    "\n",
    "\n",
    "    target_images = os.path.join(target,\"images\")\n",
    "\n",
    "    for dir in images_dir:\n",
    "        img = torchvision.io.read_image(os.path.join(path_images,dir))\n",
    "\n",
    "        target_dir = dir.replace(\".jpg\",\".pt\")\n",
    "\n",
    "\n",
    "\n",
    "        if not os.path.exists(target_images):\n",
    "            os.makedirs(target_images)\n",
    "\n",
    "        torch.save(img,os.path.join(target_images,target_dir))\n",
    "\n",
    "    src = pd.DataFrame({\n",
    "        \"Images:\": sorted(os.listdir(target_images)),\n",
    "        \"Lables\": sorted(os.listdir(target_labels))\n",
    "    })\n",
    "\n",
    "    target_src = os.path.join(target,\"src\")\n",
    "\n",
    "    if not os.path.exists(target_src):\n",
    "        os.makedirs(target_src)\n",
    "\n",
    "    src.to_csv(os.path.join(target_src,\"src.csv\"))"
   ],
   "metadata": {
    "collapsed": false,
    "pycharm": {
     "name": "#%%\n"
    }
   }
  },
  {
   "cell_type": "code",
   "execution_count": null,
   "outputs": [],
   "source": [
    "yolo_load_data(raw_path,target_path)"
   ],
   "metadata": {
    "collapsed": false,
    "pycharm": {
     "name": "#%%\n"
    }
   }
  },
  {
   "cell_type": "code",
   "execution_count": null,
   "outputs": [],
   "source": [
    "img = torchvision.io.read_image(\"../Cyclist_Detection/raw/images/000000.jpg\")\n",
    "type(img)"
   ],
   "metadata": {
    "collapsed": false,
    "pycharm": {
     "name": "#%%\n"
    }
   }
  },
  {
   "cell_type": "code",
   "execution_count": null,
   "outputs": [],
   "source": [
    "img = torchvision.transforms.ToPILImage()(img)"
   ],
   "metadata": {
    "collapsed": false,
    "pycharm": {
     "name": "#%%\n"
    }
   }
  },
  {
   "cell_type": "code",
   "execution_count": null,
   "outputs": [],
   "source": [
    "img"
   ],
   "metadata": {
    "collapsed": false,
    "pycharm": {
     "name": "#%%\n"
    }
   }
  }
 ],
 "metadata": {
  "kernelspec": {
   "display_name": "Python 3 (ipykernel)",
   "language": "python",
   "name": "python3"
  },
  "language_info": {
   "codemirror_mode": {
    "name": "ipython",
    "version": 3
   },
   "file_extension": ".py",
   "mimetype": "text/x-python",
   "name": "python",
   "nbconvert_exporter": "python",
   "pygments_lexer": "ipython3",
   "version": "3.9.13"
  }
 },
 "nbformat": 4,
 "nbformat_minor": 1
}